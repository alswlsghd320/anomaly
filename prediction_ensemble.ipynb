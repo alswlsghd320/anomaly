{
 "cells": [
  {
   "cell_type": "code",
   "execution_count": 29,
   "metadata": {},
   "outputs": [],
   "source": [
    "import os\n",
    "import glob\n",
    "from os.path import join as opj\n",
    "\n",
    "import numpy as np\n",
    "import pandas as pd \n",
    "from tqdm import tqdm\n",
    "from easydict import EasyDict\n",
    "from torch.cuda.amp import autocast\n",
    "from sklearn.preprocessing import LabelEncoder\n",
    "\n",
    "from dataloader import *\n",
    "from network import *\n",
    "\n",
    "import warnings\n",
    "from pandas.core.common import SettingWithCopyWarning\n",
    "warnings.simplefilter(action=\"ignore\", category=SettingWithCopyWarning)\n",
    "warnings.filterwarnings(action='ignore')"
   ]
  },
  {
   "cell_type": "code",
   "execution_count": 7,
   "metadata": {},
   "outputs": [],
   "source": [
    "sub = pd.read_csv('sample_submission.csv')"
   ]
  },
  {
   "cell_type": "code",
   "execution_count": 8,
   "metadata": {},
   "outputs": [],
   "source": [
    "bad_df = pd.read_csv('../data/train_df_bad.csv')  \n",
    " \n",
    "le_bad = LabelEncoder() #le_bad\n",
    "bad_df['label'] = le_bad.fit_transform(bad_df['label'])\n",
    "\n",
    "good = le_bad.transform([label for label in le_bad.classes_ if 'good' in label]) #30개\n",
    "ngood = le_bad.transform([label for label in le_bad.classes_ if not 'good' in label])\n",
    "\n",
    "train_df = pd.read_csv('../data/train_df.csv')\n",
    "le = LabelEncoder()\n",
    "train_df['label'] = le.fit_transform(train_df['label'])\n",
    "good2 = le.transform([label for label in le.classes_ if 'good' in label]) # 88개"
   ]
  },
  {
   "cell_type": "code",
   "execution_count": 9,
   "metadata": {},
   "outputs": [],
   "source": [
    "def get_preds(li, good=good, ngood=ngood, good2=good2, le=le):\n",
    "    ww = np.array([np.load(i) for i in li])\n",
    "    w = ww.mean(axis=0)\n",
    "    w_maxs = np.max(w, axis=1)\n",
    "    w_preds = np.argmax(w, axis=1)\n",
    "\n",
    "    df_k2 = pd.DataFrame(data = w_maxs, columns=['max'])\n",
    "    df_k2['preds'] = w_preds\n",
    "    df_k2['label'] = le.inverse_transform(w_preds) #string\n",
    "\n",
    "    bad2 = np.load('../0405/effb4_bad_5fold.npy') #2514 x 30\n",
    "\n",
    "    bad2_maxs = np.max(bad2, axis=1)\n",
    "    bad2_preds = np.argmax(bad2, axis=1)\n",
    "    df_bad2 = pd.DataFrame(data = bad2_maxs, columns=['max'])\n",
    "    df_bad2['preds'] = bad2_preds\n",
    "\n",
    "    idx2 = np.array(df_bad2[((df_bad2['preds'].isin(good)) & (df_bad2['max'] <0.999999)) | df_bad2['preds'].isin(ngood)].index)\n",
    "\n",
    "    idx_bad2 = np.array(df_k2.loc[idx2][df_k2['label'].isin(le.inverse_transform(good2))].index)\n",
    "    p_bad2 = np.argsort(w, axis=1)[idx_bad2, -2]\n",
    "    \n",
    "    df_k2['label'].iloc[idx_bad2]= le.inverse_transform(p_bad2)\n",
    "        \n",
    "    return df_k2['label'].values"
   ]
  },
  {
   "cell_type": "code",
   "execution_count": 10,
   "metadata": {},
   "outputs": [
    {
     "data": {
      "text/html": [
       "<div>\n",
       "<style scoped>\n",
       "    .dataframe tbody tr th:only-of-type {\n",
       "        vertical-align: middle;\n",
       "    }\n",
       "\n",
       "    .dataframe tbody tr th {\n",
       "        vertical-align: top;\n",
       "    }\n",
       "\n",
       "    .dataframe thead th {\n",
       "        text-align: right;\n",
       "    }\n",
       "</style>\n",
       "<table border=\"1\" class=\"dataframe\">\n",
       "  <thead>\n",
       "    <tr style=\"text-align: right;\">\n",
       "      <th></th>\n",
       "      <th>index</th>\n",
       "      <th>label</th>\n",
       "    </tr>\n",
       "  </thead>\n",
       "  <tbody>\n",
       "    <tr>\n",
       "      <th>0</th>\n",
       "      <td>0</td>\n",
       "      <td>tile-glue_strip</td>\n",
       "    </tr>\n",
       "    <tr>\n",
       "      <th>1</th>\n",
       "      <td>1</td>\n",
       "      <td>grid-good</td>\n",
       "    </tr>\n",
       "    <tr>\n",
       "      <th>2</th>\n",
       "      <td>2</td>\n",
       "      <td>transistor-good</td>\n",
       "    </tr>\n",
       "    <tr>\n",
       "      <th>3</th>\n",
       "      <td>3</td>\n",
       "      <td>tile-gray_stroke</td>\n",
       "    </tr>\n",
       "    <tr>\n",
       "      <th>4</th>\n",
       "      <td>4</td>\n",
       "      <td>tile-good</td>\n",
       "    </tr>\n",
       "  </tbody>\n",
       "</table>\n",
       "</div>"
      ],
      "text/plain": [
       "   index             label\n",
       "0      0   tile-glue_strip\n",
       "1      1         grid-good\n",
       "2      2   transistor-good\n",
       "3      3  tile-gray_stroke\n",
       "4      4         tile-good"
      ]
     },
     "execution_count": 10,
     "metadata": {},
     "output_type": "execute_result"
    }
   ],
   "source": [
    "li = glob.glob('files/softmax_*.npy')\n",
    "sub['label'] = get_preds(li, good=good, ngood=ngood, good2=good2, le=le)\n",
    "sub.head()"
   ]
  },
  {
   "cell_type": "markdown",
   "metadata": {},
   "source": [
    "### One-class Classification"
   ]
  },
  {
   "cell_type": "code",
   "execution_count": 12,
   "metadata": {},
   "outputs": [],
   "source": [
    "args = EasyDict({'encoder_name':'efficientnet_b1',\n",
    "                 'drop_path_rate':0.2,\n",
    "                 'use_weight_norm':None,\n",
    "                 'num_classes':88\n",
    "                })"
   ]
  },
  {
   "cell_type": "code",
   "execution_count": 13,
   "metadata": {},
   "outputs": [],
   "source": [
    "df_train = pd.read_csv('../data/train_df.csv')\n",
    "df_test = pd.read_csv('../data/test_df.csv') \n",
    "device = 'cuda'"
   ]
  },
  {
   "cell_type": "code",
   "execution_count": 14,
   "metadata": {},
   "outputs": [],
   "source": [
    "def predict(args, le, _type, test_loader, model_path):\n",
    "    model = Network(args).to(device)\n",
    "    model.load_state_dict(torch.load(opj(model_path, f'{_type}_model.pth'))['state_dict'])\n",
    "    model.eval()\n",
    "    output = []\n",
    "    with torch.no_grad():\n",
    "        with autocast():\n",
    "            for batch in tqdm(test_loader):\n",
    "                images = torch.tensor(batch, dtype = torch.float32, device = device)\n",
    "                preds = model(images)\n",
    "                output.extend(torch.tensor(torch.argmax(preds, dim=1), dtype=torch.int32).cpu().numpy())\n",
    "\n",
    "    return le.inverse_transform(output)\n",
    "\n",
    "def save_predicts(cls, sub, df_train, exps):\n",
    "    idxLst = [sub.iloc[idx]['index'] for idx in range(len(sub)) if f'{cls}' in sub.iloc[idx]['label']]\n",
    "    df_cls = df_train[df_train['class']==cls]\n",
    "    le = LabelEncoder()\n",
    "    df_cls['label'] = le.fit_transform(df_cls['label'])\n",
    "\n",
    "    df_test_cls = df_test[df_test['index'].isin(idxLst)]\n",
    "    transform = get_train_augmentation(img_size=512, ver=1)\n",
    "    test_dataset = Test_Dataset(df_test_cls, transform)\n",
    "    test_loader = DataLoader(test_dataset, batch_size=1, shuffle=False, num_workers=0)\n",
    "    for exp in exps:\n",
    "        model_path = f'results/{exp}'\n",
    "        pred = predict(args, le, _type='best', test_loader=test_loader, model_path=model_path)\n",
    "        np.save(f'{cls}_{exp}.npy', pred)"
   ]
  },
  {
   "cell_type": "code",
   "execution_count": 15,
   "metadata": {},
   "outputs": [
    {
     "name": "stdout",
     "output_type": "stream",
     "text": [
      "Test Dataset size:54\n"
     ]
    },
    {
     "name": "stderr",
     "output_type": "stream",
     "text": [
      "100%|██████████| 54/54 [00:02<00:00, 21.79it/s]\n",
      "100%|██████████| 54/54 [00:01<00:00, 28.66it/s]\n",
      "100%|██████████| 54/54 [00:01<00:00, 29.22it/s]\n"
     ]
    },
    {
     "name": "stdout",
     "output_type": "stream",
     "text": [
      "Test Dataset size:180\n"
     ]
    },
    {
     "name": "stderr",
     "output_type": "stream",
     "text": [
      "100%|██████████| 180/180 [00:05<00:00, 33.69it/s]\n",
      "100%|██████████| 180/180 [00:05<00:00, 35.44it/s]\n",
      "100%|██████████| 180/180 [00:05<00:00, 34.85it/s]\n"
     ]
    }
   ],
   "source": [
    "save_predicts(cls='toothbrush', sub=sub, df_train=df_train, exps=[294,295,296])\n",
    "save_predicts(cls='zipper', sub=sub, df_train=df_train, exps=[297,298,299])"
   ]
  },
  {
   "cell_type": "code",
   "execution_count": null,
   "metadata": {},
   "outputs": [],
   "source": [
    "def hardVoting(cls, df_sub, npys):\n",
    "    idxLst = [df_sub.iloc[idx]['index'] for idx in range(len(df_sub)) if cls in df_sub.iloc[idx]['label']]\n",
    "    \n",
    "    if not npys:\n",
    "        raise AssertionError('npys must not be empty') \n",
    "    # 단일모델 예측 : 기존 모델 예측값 대신 단일 모델 예측값으로 전부 변경\n",
    "    elif len(npys) == 1:\n",
    "        path = npys[0]\n",
    "        p = np.load(path, allow_pickle=True)\n",
    "        df_sub['label'].iloc[sub['index'].isin(idxLst)] = p\n",
    "    # 하드보팅 예측 : 단일 모델들의 예측값과 원래의 예측값에 대하여 hard voting\n",
    "    else:\n",
    "        df = df_sub[df_sub['index'].isin(idxLst)]\n",
    "\n",
    "        for path in npys:\n",
    "            num = os.path.basename(path).split('.')[0][-3:]\n",
    "            p = np.load(path, allow_pickle=True)\n",
    "            df[f'pred_{num}'] = p\n",
    "        \n",
    "        for i in range(len(df)):\n",
    "            label_pred_list = [df.iloc[i,1],df.iloc[i,2],df.iloc[i,3],df.iloc[i,4]]\n",
    "            newlabel = max(label_pred_list, key=label_pred_list.count)\n",
    "            \n",
    "            df_sub.loc[df.iloc[i]['index'],'label'] = newlabel\n",
    "        \n",
    "    return df_sub"
   ]
  },
  {
   "cell_type": "code",
   "execution_count": null,
   "metadata": {},
   "outputs": [],
   "source": []
  }
 ],
 "metadata": {
  "interpreter": {
   "hash": "9207e1e4044d008bc83417c44dcbc644def0b6b235bb57a26d71c8751d998da0"
  },
  "kernelspec": {
   "display_name": "Python 3.8.13 ('anomaly')",
   "language": "python",
   "name": "python3"
  },
  "language_info": {
   "codemirror_mode": {
    "name": "ipython",
    "version": 3
   },
   "file_extension": ".py",
   "mimetype": "text/x-python",
   "name": "python",
   "nbconvert_exporter": "python",
   "pygments_lexer": "ipython3",
   "version": "3.8.13"
  },
  "orig_nbformat": 4
 },
 "nbformat": 4,
 "nbformat_minor": 2
}